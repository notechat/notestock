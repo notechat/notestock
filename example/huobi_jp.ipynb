{
 "cells": [
  {
   "cell_type": "code",
   "execution_count": null,
   "metadata": {},
   "outputs": [],
   "source": [
    "from huobi.client.account import AccountClient\n",
    "from huobi.client.generic import CandlestickInterval, GenericClient\n",
    "from huobi.client.market import LogInfo, MarketClient\n",
    "from huobi.client.trade import TradeClient\n",
    "\n",
    "generic_client = GenericClient()\n",
    "list_symbol = generic_client.get_exchange_symbols()\n",
    "list_currency = generic_client.get_reference_currencies()"
   ]
  },
  {
   "cell_type": "code",
   "execution_count": null,
   "metadata": {},
   "outputs": [],
   "source": []
  }
 ],
 "metadata": {
  "kernelspec": {
   "display_name": "Python 3",
   "name": "python3"
  },
  "language_info": {
   "name": "python",
   "nbconvert_exporter": "python",
   "version": "3.8.5"
  },
  "orig_nbformat": 2
 },
 "nbformat": 4,
 "nbformat_minor": 2
}